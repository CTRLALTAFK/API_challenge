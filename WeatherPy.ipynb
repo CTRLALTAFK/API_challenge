{
 "cells": [
  {
   "cell_type": "markdown",
   "metadata": {},
   "source": [
    "# WeatherPy\n",
    "----\n",
    "\n",
    "#### Note\n",
    "* Instructions have been included for each segment. You do not have to follow them exactly, but they are included to help you think through the steps."
   ]
  },
  {
   "cell_type": "code",
   "execution_count": 1,
   "metadata": {
    "scrolled": true
   },
   "outputs": [],
   "source": [
    "# Dependencies and Setup\n",
    "import matplotlib.pyplot as plt\n",
    "import pandas as pd\n",
    "import numpy as np\n",
    "import requests\n",
    "import time\n",
    "import openweathermapy.core as ow\n",
    "\n",
    "from pprint import pprint\n",
    "\n",
    "# Import API key\n",
    "from config import api_key\n",
    "\n",
    "# Incorporated citipy to determine city based on latitude and longitude\n",
    "from citipy import citipy\n",
    "\n",
    "# Output File (CSV)\n",
    "output_data_file = \"output_data/cities.csv\"\n",
    "\n",
    "# Range of latitudes and longitudes\n",
    "lat_range = (-90, 90)\n",
    "lng_range = (-180, 180)"
   ]
  },
  {
   "cell_type": "markdown",
   "metadata": {},
   "source": [
    "## Generate Cities List"
   ]
  },
  {
   "cell_type": "code",
   "execution_count": 2,
   "metadata": {},
   "outputs": [],
   "source": [
    "# List for holding lat_lngs and cities\n",
    "lat_lngs = []\n",
    "cities = []\n",
    "\n",
    "# Create a set of random lat and lng combinations\n",
    "lats = np.random.uniform(low=-90.000, high=90.000, size=1500)\n",
    "lngs = np.random.uniform(low=-180.000, high=180.000, size=1500)\n",
    "lat_lngs = zip(lats, lngs)\n",
    "\n",
    "# Identify nearest city for each lat, lng combination\n",
    "for lat_lng in lat_lngs:\n",
    "    city = citipy.nearest_city(lat_lng[0], lat_lng[1]).city_name\n",
    "    \n",
    "    # If the city is unique, then add it to a our cities list\n",
    "    if city not in cities:\n",
    "        cities.append(city)\n",
    "\n",
    "# Print the city count to confirm sufficient count\n"
   ]
  },
  {
   "cell_type": "markdown",
   "metadata": {},
   "source": [
    "### Perform API Calls\n",
    "* Perform a weather check on each city using a series of successive API calls.\n",
    "* Include a print log of each city as it'sbeing processed (with the city number and city name).\n"
   ]
  },
  {
   "cell_type": "code",
   "execution_count": 45,
   "metadata": {},
   "outputs": [
    {
     "name": "stdout",
     "output_type": "stream",
     "text": [
      "        Country  Temperature  Min Temp  Max Temp  Humidity  Cloudiness  \\\n",
      "London       GB        46.63     42.80     51.80        66           0   \n",
      "Paris        FR        49.01     44.60     53.60        57           0   \n",
      "Madrid       ES        66.15     59.00     71.60        35           0   \n",
      "Boston       US        64.98     61.00     69.80        88          90   \n",
      "Raleigh      US        93.76     91.00     97.00        41          75   \n",
      "Mumbai       IN        82.40     82.40     82.40        83          20   \n",
      "Tokyo        JP        69.94     62.60     77.00        93          40   \n",
      "Rome         IT        63.61     57.00     70.00        82          40   \n",
      "Lincoln      US        54.28     53.01     55.99       100          90   \n",
      "\n",
      "         Wind Speed  Longitude  Latitude        Date  \n",
      "London         4.70      -0.13     51.51  1570043405  \n",
      "Paris          8.05       2.35     48.86  1570043860  \n",
      "Madrid         2.24      -3.70     40.42  1570043982  \n",
      "Boston        10.29     -71.06     42.36  1570043990  \n",
      "Raleigh        5.82     -78.64     35.78  1570044158  \n",
      "Mumbai         4.70      72.85     19.01  1570043915  \n",
      "Tokyo          1.12     139.76     35.68  1570043552  \n",
      "Rome           3.36      12.48     41.89  1570043990  \n",
      "Lincoln        3.36     -96.67     40.80  1570044022  \n"
     ]
    }
   ],
   "source": [
    "weather_data = []\n",
    "counter = 0\n",
    "places = [\"London\", \"Paris\", \"Madrid\",\"Boston\",\"Raleigh\",\"Mumbai\", \"Tokyo\", \"Rome\", \"Lincoln\"]\n",
    "settings = {\"units\": \"imperial\", \"appid\": api_key}\n",
    "\n",
    "#timed while loop to get around the 60per minute call back issue.\n",
    "\n",
    "for x in places:\n",
    "    weather_data.append(ow.get_current(x, **settings)) \n",
    "#To get around the 60 calls per minute limitation, I just wait 1 second between calls.   \n",
    "    counter += 1\n",
    "    time.sleep(1)\n",
    "\n",
    "summary = ['sys.country',\"main.temp\", \"main.temp_min\", 'main.temp_max', 'main.humidity', 'clouds.all','wind.speed', 'coord.lon', 'coord.lat','dt'] \n",
    "data = [response(*summary) for response in weather_data]\n",
    "column_names = [\"Country\",'Temperature', \"Min Temp\",\"Max Temp\", \"Humidity\",\"Cloudiness\", \"Wind Speed\", \"Longitude\", \"Latitude\", \"Date\"]\n",
    "#convert timestamp to date\n",
    "\n",
    "weather_data = pd.DataFrame(data, index=places, columns=column_names)\n",
    "print(weather_data)\n"
   ]
  },
  {
   "cell_type": "markdown",
   "metadata": {},
   "source": [
    "### Convert Raw Data to DataFrame\n",
    "* Export the city data into a .csv.\n",
    "* Display the DataFrame"
   ]
  },
  {
   "cell_type": "code",
   "execution_count": 21,
   "metadata": {},
   "outputs": [
    {
     "data": {
      "text/html": [
       "<div>\n",
       "<style scoped>\n",
       "    .dataframe tbody tr th:only-of-type {\n",
       "        vertical-align: middle;\n",
       "    }\n",
       "\n",
       "    .dataframe tbody tr th {\n",
       "        vertical-align: top;\n",
       "    }\n",
       "\n",
       "    .dataframe thead th {\n",
       "        text-align: right;\n",
       "    }\n",
       "</style>\n",
       "<table border=\"1\" class=\"dataframe\">\n",
       "  <thead>\n",
       "    <tr style=\"text-align: right;\">\n",
       "      <th></th>\n",
       "      <th>Country</th>\n",
       "      <th>Temperature</th>\n",
       "      <th>Min Temp</th>\n",
       "      <th>Max Temp</th>\n",
       "      <th>Humidity</th>\n",
       "      <th>Cloudiness</th>\n",
       "      <th>Wind Speed</th>\n",
       "      <th>Longitude</th>\n",
       "      <th>Latitude</th>\n",
       "    </tr>\n",
       "  </thead>\n",
       "  <tbody>\n",
       "    <tr>\n",
       "      <td>London</td>\n",
       "      <td>GB</td>\n",
       "      <td>52.95</td>\n",
       "      <td>50.00</td>\n",
       "      <td>55.99</td>\n",
       "      <td>50</td>\n",
       "      <td>20</td>\n",
       "      <td>8.05</td>\n",
       "      <td>-0.13</td>\n",
       "      <td>51.51</td>\n",
       "    </tr>\n",
       "    <tr>\n",
       "      <td>Paris</td>\n",
       "      <td>FR</td>\n",
       "      <td>55.22</td>\n",
       "      <td>52.00</td>\n",
       "      <td>59.00</td>\n",
       "      <td>47</td>\n",
       "      <td>0</td>\n",
       "      <td>12.75</td>\n",
       "      <td>2.35</td>\n",
       "      <td>48.86</td>\n",
       "    </tr>\n",
       "    <tr>\n",
       "      <td>Madrid</td>\n",
       "      <td>ES</td>\n",
       "      <td>71.56</td>\n",
       "      <td>63.00</td>\n",
       "      <td>75.20</td>\n",
       "      <td>28</td>\n",
       "      <td>0</td>\n",
       "      <td>2.24</td>\n",
       "      <td>-3.70</td>\n",
       "      <td>40.42</td>\n",
       "    </tr>\n",
       "    <tr>\n",
       "      <td>Boston</td>\n",
       "      <td>US</td>\n",
       "      <td>72.97</td>\n",
       "      <td>69.01</td>\n",
       "      <td>77.00</td>\n",
       "      <td>73</td>\n",
       "      <td>90</td>\n",
       "      <td>5.82</td>\n",
       "      <td>-71.06</td>\n",
       "      <td>42.36</td>\n",
       "    </tr>\n",
       "    <tr>\n",
       "      <td>Raleigh</td>\n",
       "      <td>US</td>\n",
       "      <td>91.11</td>\n",
       "      <td>87.80</td>\n",
       "      <td>93.99</td>\n",
       "      <td>52</td>\n",
       "      <td>75</td>\n",
       "      <td>5.82</td>\n",
       "      <td>-78.64</td>\n",
       "      <td>35.78</td>\n",
       "    </tr>\n",
       "    <tr>\n",
       "      <td>Mumbai</td>\n",
       "      <td>IN</td>\n",
       "      <td>84.20</td>\n",
       "      <td>84.20</td>\n",
       "      <td>84.20</td>\n",
       "      <td>79</td>\n",
       "      <td>20</td>\n",
       "      <td>6.11</td>\n",
       "      <td>72.85</td>\n",
       "      <td>19.01</td>\n",
       "    </tr>\n",
       "    <tr>\n",
       "      <td>Tokyo</td>\n",
       "      <td>JP</td>\n",
       "      <td>71.17</td>\n",
       "      <td>62.01</td>\n",
       "      <td>79.00</td>\n",
       "      <td>83</td>\n",
       "      <td>75</td>\n",
       "      <td>10.29</td>\n",
       "      <td>139.76</td>\n",
       "      <td>35.68</td>\n",
       "    </tr>\n",
       "    <tr>\n",
       "      <td>Rome</td>\n",
       "      <td>IT</td>\n",
       "      <td>65.97</td>\n",
       "      <td>57.00</td>\n",
       "      <td>73.40</td>\n",
       "      <td>73</td>\n",
       "      <td>75</td>\n",
       "      <td>5.82</td>\n",
       "      <td>12.48</td>\n",
       "      <td>41.89</td>\n",
       "    </tr>\n",
       "    <tr>\n",
       "      <td>Lincoln</td>\n",
       "      <td>GB</td>\n",
       "      <td>52.93</td>\n",
       "      <td>50.00</td>\n",
       "      <td>55.40</td>\n",
       "      <td>62</td>\n",
       "      <td>75</td>\n",
       "      <td>5.82</td>\n",
       "      <td>-0.54</td>\n",
       "      <td>53.23</td>\n",
       "    </tr>\n",
       "  </tbody>\n",
       "</table>\n",
       "</div>"
      ],
      "text/plain": [
       "        Country  Temperature  Min Temp  Max Temp  Humidity  Cloudiness  \\\n",
       "London       GB        52.95     50.00     55.99        50          20   \n",
       "Paris        FR        55.22     52.00     59.00        47           0   \n",
       "Madrid       ES        71.56     63.00     75.20        28           0   \n",
       "Boston       US        72.97     69.01     77.00        73          90   \n",
       "Raleigh      US        91.11     87.80     93.99        52          75   \n",
       "Mumbai       IN        84.20     84.20     84.20        79          20   \n",
       "Tokyo        JP        71.17     62.01     79.00        83          75   \n",
       "Rome         IT        65.97     57.00     73.40        73          75   \n",
       "Lincoln      GB        52.93     50.00     55.40        62          75   \n",
       "\n",
       "         Wind Speed  Longitude  Latitude  \n",
       "London         8.05      -0.13     51.51  \n",
       "Paris         12.75       2.35     48.86  \n",
       "Madrid         2.24      -3.70     40.42  \n",
       "Boston         5.82     -71.06     42.36  \n",
       "Raleigh        5.82     -78.64     35.78  \n",
       "Mumbai         6.11      72.85     19.01  \n",
       "Tokyo         10.29     139.76     35.68  \n",
       "Rome           5.82      12.48     41.89  \n",
       "Lincoln        5.82      -0.54     53.23  "
      ]
     },
     "execution_count": 21,
     "metadata": {},
     "output_type": "execute_result"
    }
   ],
   "source": [
    "weather_data"
   ]
  },
  {
   "cell_type": "code",
   "execution_count": null,
   "metadata": {},
   "outputs": [],
   "source": []
  },
  {
   "cell_type": "markdown",
   "metadata": {},
   "source": [
    "### Plotting the Data\n",
    "* Use proper labeling of the plots using plot titles (including date of analysis) and axes labels.\n",
    "* Save the plotted figures as .pngs."
   ]
  },
  {
   "cell_type": "markdown",
   "metadata": {},
   "source": [
    "#### Latitude vs. Temperature Plot"
   ]
  },
  {
   "cell_type": "code",
   "execution_count": 41,
   "metadata": {},
   "outputs": [
    {
     "data": {
      "image/png": "[encoded data removed]",
      "text/plain": [
       "<Figure size 432x288 with 1 Axes>"
      ]
     },
     "metadata": {
      "needs_background": "light"
     },
     "output_type": "display_data"
    }
   ],
   "source": [
    "x_axis = weather_data[\"Latitude\"]\n",
    "y_axis = weather_data['Max Temp']\n",
    "\n",
    "plt.title(\"Latitude vs Max Temperature\")\n",
    "plt.xlabel(\"Latitude\")\n",
    "plt.ylabel(\"Max Temp (F)\")\n",
    "\n",
    "plt.scatter(x_axis, y_axis, marker=\"o\", color=\"red\")\n",
    "plt.show()"
   ]
  },
  {
   "cell_type": "markdown",
   "metadata": {},
   "source": [
    "#### Latitude vs. Humidity Plot"
   ]
  },
  {
   "cell_type": "code",
   "execution_count": 42,
   "metadata": {},
   "outputs": [
    {
     "data": {
      "image/png": "[encoded data removed]",
      "text/plain": [
       "<Figure size 432x288 with 1 Axes>"
      ]
     },
     "metadata": {
      "needs_background": "light"
     },
     "output_type": "display_data"
    }
   ],
   "source": [
    "x_axis = weather_data[\"Latitude\"]\n",
    "y_axis = weather_data['Humidity']\n",
    "\n",
    "plt.title(\"Latitude vs Humidity\")\n",
    "plt.xlabel(\"Latitude\")\n",
    "plt.ylabel(\"Max Temp (F)\")\n",
    "\n",
    "plt.scatter(x_axis, y_axis, marker=\"o\", color=\"red\")\n",
    "plt.show()"
   ]
  },
  {
   "cell_type": "markdown",
   "metadata": {},
   "source": [
    "#### Latitude vs. Cloudiness Plot"
   ]
  },
  {
   "cell_type": "code",
   "execution_count": 43,
   "metadata": {},
   "outputs": [
    {
     "data": {
      "image/png": "[encoded data removed]",
      "text/plain": [
       "<Figure size 432x288 with 1 Axes>"
      ]
     },
     "metadata": {
      "needs_background": "light"
     },
     "output_type": "display_data"
    }
   ],
   "source": [
    "x_axis = weather_data[\"Latitude\"]\n",
    "y_axis = weather_data['Cloudiness']\n",
    "\n",
    "plt.title(\"Latitude vs Cloudiness\")\n",
    "plt.xlabel(\"Latitude\")\n",
    "plt.ylabel(\"Max Temp (F)\")\n",
    "\n",
    "plt.scatter(x_axis, y_axis, marker=\"o\", color=\"red\")\n",
    "plt.show()"
   ]
  },
  {
   "cell_type": "markdown",
   "metadata": {},
   "source": [
    "#### Latitude vs. Wind Speed Plot"
   ]
  },
  {
   "cell_type": "code",
   "execution_count": 44,
   "metadata": {},
   "outputs": [
    {
     "data": {
      "image/png": "[encoded data removed]",
      "text/plain": [
       "<Figure size 432x288 with 1 Axes>"
      ]
     },
     "metadata": {
      "needs_background": "light"
     },
     "output_type": "display_data"
    }
   ],
   "source": [
    "x_axis = weather_data[\"Latitude\"]\n",
    "y_axis = weather_data['Wind Speed']\n",
    "\n",
    "plt.title(\"Latitude vs Wind Speed\")\n",
    "plt.xlabel(\"Latitude\")\n",
    "plt.ylabel(\"Max Temp (F)\")\n",
    "\n",
    "plt.scatter(x_axis, y_axis, marker=\"o\", color=\"red\")\n",
    "plt.show()"
   ]
  },
  {
   "cell_type": "code",
   "execution_count": null,
   "metadata": {},
   "outputs": [],
   "source": []
  }
 ],
 "metadata": {
  "anaconda-cloud": {},
  "kernel_info": {
   "name": "python3"
  },
  "kernelspec": {
   "display_name": "Python [conda env:pythondata]",
   "language": "python",
   "name": "conda-env-pythondata-py"
  },
  "language_info": {
   "codemirror_mode": {
    "name": "ipython",
    "version": 3
   },
   "file_extension": ".py",
   "mimetype": "text/x-python",
   "name": "python",
   "nbconvert_exporter": "python",
   "pygments_lexer": "ipython3",
   "version": "3.6.9"
  },
  "nteract": {
   "version": "0.12.3"
  }
 },
 "nbformat": 4,
 "nbformat_minor": 2
}
